{
 "cells": [
  {
   "cell_type": "code",
   "execution_count": 2,
   "metadata": {},
   "outputs": [],
   "source": [
    "# current future warning with pandas\n",
    "import warnings\n",
    "warnings.simplefilter(action ='ignore', category = FutureWarning)\n",
    "\n",
    "import numpy as np #The Numpy numerical computing library\n",
    "import pandas as pd #The Pandas data science library|\n",
    "import requests #The requests library for HTTP requests in Python\n",
    "import xlsxwriter #The XlsxWriter libarary for \n",
    "import math #The Python math module\n",
    "from scipy import stats #The SciPy stats module \n",
    "import scipy.stats as sts\n",
    "import matplotlib.pyplot as plt  \n",
    "import backtesting as bt\n",
    "import talib\n",
    "import csv"
   ]
  },
  {
   "cell_type": "code",
   "execution_count": 3,
   "metadata": {},
   "outputs": [],
   "source": [
    "# SE30 Sweden 30 Index\n",
    "SE30_index = pd.read_csv(\"./Indexies/SE30_5M_HKT.csv\")\n",
    "SE30_index.index = pd.to_datetime(SE30_index['Date'])\n",
    "SE30_index = SE30_index.drop(columns=['Date'])\n",
    "\n",
    "# US2000 US smallcap 2000 Index\n",
    "US2000_index = pd.read_csv(\"./Indexies/US2000_5M_HKT.csv\")\n",
    "US2000_index.index = pd.to_datetime(US2000_index['Date'])\n",
    "US2000_index = US2000_index.drop(columns=['Date'])\n",
    "\n",
    "joined_index = pd.concat([SE30_index, US2000_index], axis=1, join='inner')\n",
    "joined_index.dropna(inplace=True)\n",
    "joined_index.columns = ['Open1', 'High1', 'Low1', 'Close1', 'Volume1', 'Open2', 'High2', 'Low2', 'Close2', 'Volume2']\n",
    "SE30_index = joined_index[['Open1', 'High1', 'Low1', 'Close1', 'Volume1']]\n",
    "SE30_index.columns = ['Open', 'High', 'Low', 'Close', 'Volume']\n",
    "US2000_index = joined_index[['Open2', 'High2', 'Low2', 'Close2', 'Volume2']]\n",
    "US2000_index.columns = ['Open', 'High', 'Low', 'Close', 'Volume']"
   ]
  },
  {
   "cell_type": "code",
   "execution_count": 4,
   "metadata": {},
   "outputs": [
    {
     "name": "stdout",
     "output_type": "stream",
     "text": [
      "                        SE30   US2000\n",
      "Date                                 \n",
      "2020-04-20 15:00:00  1544.63  1217.84\n",
      "2020-04-20 15:05:00  1541.87  1218.29\n",
      "2020-04-20 15:10:00  1537.75  1216.99\n",
      "2020-04-20 15:15:00  1531.57  1215.19\n",
      "2020-04-20 15:20:00  1533.35  1216.39\n",
      "...                      ...      ...\n",
      "2022-06-29 20:40:00  1903.71  1736.33\n",
      "2022-06-29 20:45:00  1904.31  1735.68\n",
      "2022-06-29 20:50:00  1904.30  1736.33\n",
      "2022-06-29 20:55:00  1904.50  1735.43\n",
      "2022-06-29 21:00:00  1904.37  1737.13\n",
      "\n",
      "[55016 rows x 2 columns]\n",
      "Date\n",
      "2020-04-20 15:00:00    0.827857\n",
      "2020-04-20 15:05:00    0.829645\n",
      "2020-04-20 15:10:00    0.830980\n",
      "2020-04-20 15:15:00    0.833099\n",
      "2020-04-20 15:20:00    0.832954\n",
      "                         ...   \n",
      "2022-06-29 20:40:00    0.957681\n",
      "2022-06-29 20:45:00    0.957021\n",
      "2022-06-29 20:50:00    0.957384\n",
      "2022-06-29 20:55:00    0.956787\n",
      "2022-06-29 21:00:00    0.957790\n",
      "Length: 55016, dtype: float64\n"
     ]
    }
   ],
   "source": [
    "join_index = pd.concat([SE30_index['Close'], US2000_index['Close']], axis=\"columns\")\n",
    "join_index.dropna(inplace=True)\n",
    "join_index.columns = ['SE30', 'US2000']\n",
    "print(join_index)\n",
    "SE = join_index['SE30']*20\n",
    "US2000 = join_index['US2000']*21\n",
    "ratio = US2000 / SE\n",
    "print(ratio)"
   ]
  },
  {
   "cell_type": "code",
   "execution_count": 5,
   "metadata": {},
   "outputs": [
    {
     "name": "stderr",
     "output_type": "stream",
     "text": [
      "/var/folders/qt/h3qgx4hn4j9cdtgy975g7g2r0000gn/T/ipykernel_2219/2444217905.py:1: SettingWithCopyWarning: \n",
      "A value is trying to be set on a copy of a slice from a DataFrame.\n",
      "Try using .loc[row_indexer,col_indexer] = value instead\n",
      "\n",
      "See the caveats in the documentation: https://pandas.pydata.org/pandas-docs/stable/user_guide/indexing.html#returning-a-view-versus-a-copy\n",
      "  SE30_index ['Ratio'] = ratio\n",
      "/var/folders/qt/h3qgx4hn4j9cdtgy975g7g2r0000gn/T/ipykernel_2219/2444217905.py:2: SettingWithCopyWarning: \n",
      "A value is trying to be set on a copy of a slice from a DataFrame.\n",
      "Try using .loc[row_indexer,col_indexer] = value instead\n",
      "\n",
      "See the caveats in the documentation: https://pandas.pydata.org/pandas-docs/stable/user_guide/indexing.html#returning-a-view-versus-a-copy\n",
      "  US2000_index ['Ratio'] = ratio\n"
     ]
    }
   ],
   "source": [
    "SE30_index ['Ratio'] = ratio\n",
    "US2000_index ['Ratio'] = ratio"
   ]
  },
  {
   "cell_type": "markdown",
   "metadata": {},
   "source": [
    "# Getting days data frqeuncy"
   ]
  },
  {
   "cell_type": "code",
   "execution_count": 6,
   "metadata": {},
   "outputs": [],
   "source": [
    "# SE30 Sweden 30 Index\n",
    "SE30_index_D = pd.read_csv(\"./Indexies/SE30_1D_HKT.csv\")\n",
    "SE30_index_D.index = pd.to_datetime(SE30_index_D['Date'])\n",
    "SE30_index_D = SE30_index_D.drop(columns=['Date'])\n",
    "\n",
    "# US2000 US smallcap 2000 Index\n",
    "US2000_index_D = pd.read_csv(\"./Indexies/US2000_1D_HKT.csv\")\n",
    "US2000_index_D.index = pd.to_datetime(US2000_index_D['Date'])\n",
    "US2000_index_D = US2000_index_D.drop(columns=['Date'])\n",
    "\n",
    "joined_index_D = pd.concat([SE30_index_D, US2000_index_D], axis=1, join='inner')\n",
    "joined_index_D.dropna(inplace=True)\n",
    "joined_index_D.columns = ['Open1', 'High1', 'Low1', 'Close1', 'Volume1', 'Open2', 'High2', 'Low2', 'Close2', 'Volume2']\n",
    "SE30_index_D = joined_index[['Open1', 'High1', 'Low1', 'Close1', 'Volume1']]\n",
    "SE30_index_D.columns = ['Open', 'High', 'Low', 'Close', 'Volume']\n",
    "US2000_index_D = joined_index[['Open2', 'High2', 'Low2', 'Close2', 'Volume2']]\n",
    "US2000_index_D.columns = ['Open', 'High', 'Low', 'Close', 'Volume']"
   ]
  },
  {
   "cell_type": "code",
   "execution_count": 7,
   "metadata": {},
   "outputs": [
    {
     "name": "stdout",
     "output_type": "stream",
     "text": [
      "                        SE30   US2000\n",
      "Date                                 \n",
      "2020-04-20 15:00:00  1544.63  1217.84\n",
      "2020-04-20 15:05:00  1541.87  1218.29\n",
      "2020-04-20 15:10:00  1537.75  1216.99\n",
      "2020-04-20 15:15:00  1531.57  1215.19\n",
      "2020-04-20 15:20:00  1533.35  1216.39\n",
      "...                      ...      ...\n",
      "2022-06-29 20:40:00  1903.71  1736.33\n",
      "2022-06-29 20:45:00  1904.31  1735.68\n",
      "2022-06-29 20:50:00  1904.30  1736.33\n",
      "2022-06-29 20:55:00  1904.50  1735.43\n",
      "2022-06-29 21:00:00  1904.37  1737.13\n",
      "\n",
      "[55016 rows x 2 columns]\n",
      "Date\n",
      "2020-04-20 15:00:00    0.827857\n",
      "2020-04-20 15:05:00    0.829645\n",
      "2020-04-20 15:10:00    0.830980\n",
      "2020-04-20 15:15:00    0.833099\n",
      "2020-04-20 15:20:00    0.832954\n",
      "                         ...   \n",
      "2022-06-29 20:40:00    0.957681\n",
      "2022-06-29 20:45:00    0.957021\n",
      "2022-06-29 20:50:00    0.957384\n",
      "2022-06-29 20:55:00    0.956787\n",
      "2022-06-29 21:00:00    0.957790\n",
      "Length: 55016, dtype: float64\n"
     ]
    }
   ],
   "source": [
    "join_index_D = pd.concat([SE30_index['Close'], US2000_index['Close']], axis=\"columns\")\n",
    "join_index_D.dropna(inplace=True)\n",
    "join_index_D.columns = ['SE30', 'US2000']\n",
    "print(join_index_D)\n",
    "SE_D = join_index['SE30']*20\n",
    "US2000_D = join_index['US2000']*21\n",
    "ratio_D = US2000_D / SE_D\n",
    "print(ratio_D)"
   ]
  },
  {
   "cell_type": "code",
   "execution_count": 8,
   "metadata": {},
   "outputs": [
    {
     "name": "stderr",
     "output_type": "stream",
     "text": [
      "/var/folders/qt/h3qgx4hn4j9cdtgy975g7g2r0000gn/T/ipykernel_2219/1570382329.py:1: SettingWithCopyWarning: \n",
      "A value is trying to be set on a copy of a slice from a DataFrame.\n",
      "Try using .loc[row_indexer,col_indexer] = value instead\n",
      "\n",
      "See the caveats in the documentation: https://pandas.pydata.org/pandas-docs/stable/user_guide/indexing.html#returning-a-view-versus-a-copy\n",
      "  SE30_index_D ['Ratio'] = ratio_D\n",
      "/var/folders/qt/h3qgx4hn4j9cdtgy975g7g2r0000gn/T/ipykernel_2219/1570382329.py:2: SettingWithCopyWarning: \n",
      "A value is trying to be set on a copy of a slice from a DataFrame.\n",
      "Try using .loc[row_indexer,col_indexer] = value instead\n",
      "\n",
      "See the caveats in the documentation: https://pandas.pydata.org/pandas-docs/stable/user_guide/indexing.html#returning-a-view-versus-a-copy\n",
      "  US2000_index_D ['Ratio'] = ratio_D\n"
     ]
    }
   ],
   "source": [
    "SE30_index_D ['Ratio'] = ratio_D\n",
    "US2000_index_D ['Ratio'] = ratio_D"
   ]
  },
  {
   "cell_type": "markdown",
   "metadata": {},
   "source": [
    "## Add Z-score"
   ]
  },
  {
   "cell_type": "code",
   "execution_count": 5,
   "metadata": {},
   "outputs": [
    {
     "name": "stderr",
     "output_type": "stream",
     "text": [
      "/var/folders/qt/h3qgx4hn4j9cdtgy975g7g2r0000gn/T/ipykernel_2305/1244314543.py:3: SettingWithCopyWarning: \n",
      "A value is trying to be set on a copy of a slice from a DataFrame.\n",
      "Try using .loc[row_indexer,col_indexer] = value instead\n",
      "\n",
      "See the caveats in the documentation: https://pandas.pydata.org/pandas-docs/stable/user_guide/indexing.html#returning-a-view-versus-a-copy\n",
      "  SE30_index ['zscore'] = df_zscore\n",
      "/var/folders/qt/h3qgx4hn4j9cdtgy975g7g2r0000gn/T/ipykernel_2305/1244314543.py:4: SettingWithCopyWarning: \n",
      "A value is trying to be set on a copy of a slice from a DataFrame.\n",
      "Try using .loc[row_indexer,col_indexer] = value instead\n",
      "\n",
      "See the caveats in the documentation: https://pandas.pydata.org/pandas-docs/stable/user_guide/indexing.html#returning-a-view-versus-a-copy\n",
      "  US2000_index ['zscore'] = df_zscore\n"
     ]
    }
   ],
   "source": [
    "df_zscore = (ratio - ratio.mean())/ratio.std()\n",
    "df_zscore\n",
    "SE30_index ['zscore'] = df_zscore\n",
    "US2000_index ['zscore'] = df_zscore"
   ]
  },
  {
   "cell_type": "code",
   "execution_count": 6,
   "metadata": {},
   "outputs": [],
   "source": [
    "SE30_index = SE30_index.drop(columns=['zscore'])"
   ]
  },
  {
   "cell_type": "code",
   "execution_count": 7,
   "metadata": {},
   "outputs": [],
   "source": [
    "US2000_index = US2000_index.drop(columns=['zscore'])"
   ]
  },
  {
   "cell_type": "markdown",
   "metadata": {},
   "source": [
    "# Spliting IS and OOS"
   ]
  },
  {
   "cell_type": "code",
   "execution_count": 10,
   "metadata": {},
   "outputs": [],
   "source": [
    "part = len(SE30_index) * 0.7\n",
    "\n",
    "SE30_index_is = SE30_index.iloc[:int(part)]\n",
    "SE30_index_oos = SE30_index.iloc[int(part):]\n",
    "SE30_test = SE30_index.loc['2022-05-01':'2022-05-31']\n",
    "\n",
    "US2000_index_is = US2000_index.iloc[:int(part)]\n",
    "US2000_index_oos = US2000_index.iloc[int(part):]\n",
    "US2000_test = US2000_index.loc['2022-05-01':'2022-05-31']"
   ]
  },
  {
   "cell_type": "code",
   "execution_count": 9,
   "metadata": {},
   "outputs": [],
   "source": [
    "part = len(SE30_index_D) * 0.7\n",
    "\n",
    "SE30_D_is = SE30_index_D.iloc[:int(part)]\n",
    "SE30_D_oos = SE30_index_D.iloc[int(part):]\n",
    "SE30_D_test = SE30_index_D.loc['2022-05-01':'2022-05-31']\n",
    "\n",
    "US2000_D_is = US2000_index_D.iloc[:int(part)]\n",
    "US2000_D_oos = US2000_index_D.iloc[int(part):]\n",
    "US2000_D_test = US2000_index_D.loc['2022-05-01':'2022-05-31']"
   ]
  },
  {
   "cell_type": "markdown",
   "metadata": {},
   "source": [
    "# PairTrading"
   ]
  },
  {
   "cell_type": "code",
   "execution_count": 26,
   "metadata": {},
   "outputs": [],
   "source": [
    "from backtesting import Backtest, Strategy\n",
    "from backtesting.lib import crossover, TrailingStrategy\n",
    "from numbers import Number\n",
    "from typing import Sequence\n",
    "\n",
    "class PairTrading(Strategy):\n",
    "    # Flags for daily limit\n",
    "    daily_limit = 2 #4\n",
    "    daily_limit_counter = 0\n",
    "    \n",
    "    volume_size = 5 #5\n",
    "    \n",
    "    # point multiplier for contract value\n",
    "    point_multiplier = 50\n",
    "    prev_equity = 0\n",
    "    \n",
    "    # commission rate \n",
    "    number_of_trades = 0\n",
    "    commission_fee = 30\n",
    "    total_commission_paid = 0\n",
    "    \n",
    "     # Parameters for trading time\n",
    "    start_trading_time = '1520' \n",
    "    end_trading_time = '2355' # 15:55 UTC+8\n",
    "    \n",
    "    # Margin call details\n",
    "    InitialMargin = 101944*volume_size*daily_limit # minimum amount of money that a customer must deposit and maintain in their account as collateral\n",
    "    MaintenanceMargin = 81555*volume_size*daily_limit # minimum amount of equity that a customer must maintain in their margin account\n",
    "    ClearingHouseMargin = 76650*volume_size*daily_limit # amount threshold where broker will sell all the assets to cover the losses\n",
    "    \n",
    "    # Parameters for pair trading\n",
    "    closed_trade_flag =  0\n",
    "    z_score_signal = 1.5\n",
    "    atr_period = 18\n",
    "    sl = 15\n",
    "    tp = 15\n",
    "    ATR_sl = 1\n",
    "    ATR_tp = 2\n",
    "    \n",
    "    \n",
    "    \n",
    "    def pay_commission(self,price):\n",
    "        self._broker._cash -= price\n",
    "        self.prev_equity -= price\n",
    "        self.total_commission_paid += price\n",
    "    \n",
    "    def crossover(self,series1: Sequence, series2: Sequence) -> bool:\n",
    "        # Copy from backtesting.py lib\n",
    "        \"\"\"\n",
    "        Return `True` if `series1` just crossed over (above)\n",
    "        `series2`.\n",
    "\n",
    "            >>> crossover(self.data.Close, self.sma)\n",
    "            True\n",
    "        \"\"\"\n",
    "        series1 = (\n",
    "            series1.values if isinstance(series1, pd.Series) else\n",
    "            (series1, series1) if isinstance(series1, Number) else\n",
    "            series1)\n",
    "        series2 = (\n",
    "            series2.values if isinstance(series2, pd.Series) else\n",
    "            (series2, series2) if isinstance(series2, Number) else\n",
    "            series2)\n",
    "        try:\n",
    "            return series1[-2] < series2[-2] and series1[-1] >= series2[-1]\n",
    "        except IndexError:\n",
    "            return False\n",
    "    \n",
    "    def adjust_trade_size(self):\n",
    "        available_equity = self.equity*self._broker._leverage\n",
    "        tradable_volume = self.equity*self._broker._leverage//(101944)\n",
    "        \n",
    "        if tradable_volume < self.daily_limit*self.volume_size:\n",
    "            while tradable_volume < max((self.daily_limit+1)*self.volume_size,self.daily_limit*(self.volume_size+1)):\n",
    "                if self.daily_limit > self.volume_size:\n",
    "                    self.daily_limit -= 1\n",
    "                else:\n",
    "                    self.volume_size -= 1\n",
    "\n",
    "        else:\n",
    "            while tradable_volume >= min(self.daily_limit*(self.volume_size+1),(self.daily_limit+1)*self.volume_size):\n",
    "                if self.daily_limit < self.volume_size:\n",
    "                    self.daily_limit += 1\n",
    "                    \n",
    "                else:\n",
    "                    self.volume_size += 1\n",
    "                    \n",
    "    # def stop_trading(self,day):\n",
    "    #     if self.closed_trades != None and len(self.closed_trades) >= 2 and len(self.closed_trades) != self.trading_flag_mark:\n",
    "    #         if self.closed_trades[-1].pl < 0 and self.closed_trades[-2].pl < 0:\n",
    "    #             self.trading_flag = True\n",
    "    #             self.trading_flag_day = int(day)\n",
    "    #             self.trading_flag_mark = len(self.closed_trades)\n",
    "    \n",
    "    # def start_trading(self,day):\n",
    "    #     if abs(self.trading_flag_day - int(day)) >= 3 and self.trading_flag:\n",
    "    #         self.trading_flag = False\n",
    "    #         self.trading_flag_day = 0\n",
    "    \n",
    "    def ratio(self):\n",
    "        return self.data.Ratio\n",
    "    \n",
    "    def cal_buy_signals(self):\n",
    "        \n",
    "        return (self.zscore <-self.z_score_signal)\n",
    "    \n",
    "    def cal_sell_signals(self):\n",
    "        return (self.zscore > self.z_score_signal)\n",
    "    \n",
    "    def zscore(self):\n",
    "        ratios_mavg5 = self.data.Ratio.s.rolling(window=5, center=False).mean()\n",
    "        ratios_mavg20 = self.data.Ratio.s.rolling(window=20, center=False).mean()\n",
    "        std_20 = self.data.Ratio.s.rolling(window=20, center=False).std()\n",
    "        zscore_20_5 = (ratios_mavg5 - ratios_mavg20)/std_20\n",
    "        return zscore_20_5\n",
    "        \n",
    "    def init(self):\n",
    "        # super.init()\n",
    "        super().init()\n",
    "        # super().set_atr_periods(self.ATR_period)\n",
    "        # super().set_trailing_sl(self.ATR_sl)\n",
    "        self.ratio_signal = self.I(self.ratio)\n",
    "        # self.mavg5 = self.I(talib.SMA, self.data.Ratio, timeperiod=5)\n",
    "        # self.mavg20 = self.I(talib.SMA, self.data.Ratio, timeperiod=20)\n",
    "        self.zscore = self.I(self.zscore,plot=False)\n",
    "        self.ATRline = self.I(talib.ATR, self.data.High, self.data.Low, self.data.Close, timeperiod=self.atr_period)\n",
    "        \n",
    "        \n",
    "        self.buy_signals = self.I(self.cal_buy_signals,plot=False)\n",
    "        self.sell_signals = self.I(self.cal_sell_signals,plot=False)\n",
    "        \n",
    "        self.prev_equity = self.equity\n",
    "        self.lastday = self.data.index.values[-1]\n",
    "\n",
    "    def next(self):\n",
    "        super().next()\n",
    "        # Code to get date and time\n",
    "        date_str = np.datetime_as_string(self.data.index.values[-1], unit='D')\n",
    "        date_obj = pd.to_datetime(date_str)\n",
    "        day = date_obj.strftime('%Y-%m-%d')[-2:]\n",
    "        \n",
    "        ts = pd.to_datetime(str(self.data.index.values[-1].copy())) \n",
    "        d = ts.strftime('%Y%m%d%H%M%S')[-6:-2]\n",
    "        \n",
    "        if self.equity*self._broker._leverage < self.InitialMargin:\n",
    "            print(\"You do not have the sufficient funds to trade\")\n",
    "            # self.adjust_trade_size()\n",
    "        \n",
    "        \n",
    "        else:\n",
    "        \n",
    "            if (day in ['29','30','31']) and self.expiration_flag == False:\n",
    "                self.expiration_flag = True\n",
    "            \n",
    "                if self.position:\n",
    "                    self.position.close()\n",
    "                    \n",
    "                # we would like to not trade on the last few days of the months as the market would be volatile and alot of individuals would start to sell their futures\n",
    "            elif (self.equity*self._broker._leverage < self.ClearingHouseMargin) and (self.equity*self._broker._leverage > self.MaintenanceMargin):\n",
    "                print(\"You are in the maintenance margin zone, you should top up your account\")\n",
    "                # can consider reducing the volume size to a lower volume to reduce the risk of margin call\n",
    "            \n",
    "            else:\n",
    "                \n",
    "                self.expiration_flag = False\n",
    "\n",
    "                # Start trading based on trading time\n",
    "                if (d >= self.start_trading_time) and (d <= self.end_trading_time) and (self.equity*self._broker._leverage > self.MaintenanceMargin) :\n",
    "                    \n",
    "                    # Trading logic\n",
    "                    # Since ratio is calculated by the ratio of the two futures, we would like to buy the first future and sell the second future if ratio is low\n",
    "                    if self.buy_signals[-1] == True and self.daily_limit>self.daily_limit_counter:\n",
    "                        # self.sell(size=self.volume_size,sl=self.data.Close[-1]+self.sl, tp= self.data.Close[-1]-self.tp)#(self.data.Close[-1]*self.data.Ratio[-1] - (self.data.Close[-1]*self.data.Ratio[-1]))/2 )\n",
    "                        # self.sell(size=self.volume_size, sl=self.data.Close[-1]+self.ATRline[-1]*self.ATR_sl, tp= self.data.Close[-1]-self.ATRline[-1]*self.ATR_tp)\n",
    "                        self.sell(size=self.volume_size)\n",
    "                        self.number_of_trades += 1\n",
    "                        self.daily_limit_counter += 1\n",
    "                        self.pay_commission(self.commission_fee)\n",
    "                        \n",
    "                        # print(\"Buy signal\")\n",
    "                        \n",
    "                        \n",
    "                    if self.sell_signals[-1] == True and self.daily_limit>self.daily_limit_counter:\n",
    "                        # self.buy(size=self.volume_size, sl = self.data.Close[-1]-self.sl, tp = self.data.Close[-1]+self.tp)\n",
    "                        # self.buy(size=self.volume_size, sl=self.data.Close[-1]-self.ATRline[-1]*self.ATR_sl, tp= self.data.Close[-1]+self.ATRline[-1]*self.ATR_tp)\n",
    "                        self.buy(size=self.volume_size)\n",
    "                        self.number_of_trades += 1\n",
    "                        self.daily_limit_counter += 1\n",
    "                        self.pay_commission(self.commission_fee)\n",
    "                        # print(\"Sell signal\")\n",
    "                    \n",
    "                    \n",
    "                    if abs(self.zscore[-1] ) == 0:\n",
    "                            if self.position:\n",
    "                                self.position.close()\n",
    "                    \n",
    "                    # Stop loss can be done by checking if the spread deviative more form the mean or if the cointegration value is broken and the pair is not cointegrated anymore\n",
    "                    \n",
    "                    # Take profit can be done by checking if the spread is close to the mean\n",
    "                        \n",
    "        \n",
    "        # Need to sell all position at the end of the day\n",
    "        if d > '2300':\n",
    "            self.daily_limit_counter = 0\n",
    "            if self.position:\n",
    "                self.position.close()\n",
    "        \n",
    "        \n",
    "        #Check everytime whether there is a change in equity\n",
    "        if self.prev_equity != self.equity:\n",
    "            self._broker._cash += (self.equity - self.prev_equity)*(self.point_multiplier-1)\n",
    "            self.prev_equity = self.equity\n",
    "            \n",
    "            while (len(self.closed_trades) - self.number_of_trades) > 0:\n",
    "                self.pay_commission(self.commission_fee)\n",
    "                self.number_of_trades += 1\n",
    "            \n",
    "        # self.adjust_trade_size()\n",
    "        # self.stop_trading(day)\n",
    "        # self.start_trading(day)\n",
    "        \n",
    "        if self.data.index[-1] == self.lastday:\n",
    "            print(f\"this is the volume: {self.volume_size} and this is the daily limit: {self.daily_limit}\")\n",
    "            print(d)\n",
    "        #     print((self.buy_signals == True).sum())\n",
    "        #     print((self.buy_signals == False).sum())\n",
    "            \n",
    "            # print(\"# of closed trade: \",self.count_closed_trades,\"Total number of sl and tp hit: \", self.count_sl_tp, \"# of sl: \", self.count_sl, \"# of tp: \", self.count_tp)"
   ]
  },
  {
   "cell_type": "markdown",
   "metadata": {},
   "source": [
    "# Backtesting"
   ]
  },
  {
   "cell_type": "code",
   "execution_count": 27,
   "metadata": {},
   "outputs": [
    {
     "name": "stdout",
     "output_type": "stream",
     "text": [
      "this is the volume: 5 and this is the daily limit: 2\n",
      "1805\n"
     ]
    },
    {
     "data": {
      "text/plain": [
       "Start                     2020-04-20 15:00:00\n",
       "End                       2021-10-27 18:05:00\n",
       "Duration                    555 days 03:05:00\n",
       "Exposure Time [%]                   40.562437\n",
       "Equity Final [$]                    1281275.0\n",
       "Equity Peak [$]                     1310109.1\n",
       "Return [%]                              2.502\n",
       "Buy & Hold Return [%]               50.999268\n",
       "Return (Ann.) [%]                    1.767221\n",
       "Volatility (Ann.) [%]                3.887054\n",
       "Sharpe Ratio                         0.454643\n",
       "Sortino Ratio                        0.694201\n",
       "Calmar Ratio                         0.427746\n",
       "Max. Drawdown [%]                   -4.131474\n",
       "Avg. Drawdown [%]                   -0.233524\n",
       "Max. Drawdown Duration      298 days 18:10:00\n",
       "Avg. Drawdown Duration        6 days 12:25:00\n",
       "# Trades                                  435\n",
       "Win Rate [%]                        51.264368\n",
       "Best Trade [%]                       2.072433\n",
       "Worst Trade [%]                     -2.002128\n",
       "Avg. Trade [%]                       0.019168\n",
       "Max. Trade Duration           1 days 07:45:00\n",
       "Avg. Trade Duration           0 days 04:01:00\n",
       "Profit Factor                        1.126107\n",
       "Expectancy [%]                       0.020405\n",
       "SQN                                  0.911984\n",
       "_strategy                         PairTrading\n",
       "_equity_curve                             ...\n",
       "_trades                        Size  Entry...\n",
       "dtype: object"
      ]
     },
     "execution_count": 27,
     "metadata": {},
     "output_type": "execute_result"
    }
   ],
   "source": [
    "from backtesting.lib import compute_stats\n",
    "\n",
    "bt = Backtest(SE30_index_is, PairTrading, cash=1250000, margin=1)\n",
    "stats = bt.run()\n",
    "stats"
   ]
  },
  {
   "cell_type": "code",
   "execution_count": 24,
   "metadata": {},
   "outputs": [
    {
     "name": "stdout",
     "output_type": "stream",
     "text": [
      "this is the volume: 5 and this is the daily limit: 2\n",
      "2100\n"
     ]
    },
    {
     "data": {
      "text/plain": [
       "Start                     2021-10-27 18:10:00\n",
       "End                       2022-06-29 21:00:00\n",
       "Duration                    245 days 02:50:00\n",
       "Exposure Time [%]                   41.544986\n",
       "Equity Final [$]                    1204572.5\n",
       "Equity Peak [$]                     1251720.4\n",
       "Return [%]                            -3.6342\n",
       "Buy & Hold Return [%]              -18.342731\n",
       "Return (Ann.) [%]                   -5.356766\n",
       "Volatility (Ann.) [%]                8.104957\n",
       "Sharpe Ratio                              0.0\n",
       "Sortino Ratio                             0.0\n",
       "Calmar Ratio                              0.0\n",
       "Max. Drawdown [%]                   -7.003777\n",
       "Avg. Drawdown [%]                   -1.908927\n",
       "Max. Drawdown Duration      204 days 00:15:00\n",
       "Avg. Drawdown Duration       40 days 20:01:00\n",
       "# Trades                                  202\n",
       "Win Rate [%]                        47.029703\n",
       "Best Trade [%]                       2.398583\n",
       "Worst Trade [%]                     -4.056537\n",
       "Avg. Trade [%]                      -0.041134\n",
       "Max. Trade Duration           5 days 00:00:00\n",
       "Avg. Trade Duration           0 days 04:45:00\n",
       "Profit Factor                        0.878685\n",
       "Expectancy [%]                      -0.037366\n",
       "SQN                                 -0.613246\n",
       "_strategy                         PairTrading\n",
       "_equity_curve                             ...\n",
       "_trades                        Size  Entry...\n",
       "dtype: object"
      ]
     },
     "execution_count": 24,
     "metadata": {},
     "output_type": "execute_result"
    }
   ],
   "source": [
    "bt_oos = Backtest(SE30_index_oos, PairTrading, cash=1250000, margin=1)\n",
    "stats_oos = bt_oos.run()\n",
    "stats_oos\n"
   ]
  },
  {
   "cell_type": "markdown",
   "metadata": {},
   "source": [
    "# Plotting results"
   ]
  },
  {
   "cell_type": "code",
   "execution_count": 28,
   "metadata": {},
   "outputs": [
    {
     "name": "stderr",
     "output_type": "stream",
     "text": [
      "/opt/homebrew/lib/python3.10/site-packages/backtesting/_plotting.py:122: UserWarning: Data contains too many candlesticks to plot; downsampling to '2H'. See `Backtest.plot(resample=...)`\n",
      "  warnings.warn(f\"Data contains too many candlesticks to plot; downsampling to {freq!r}. \"\n",
      "BokehDeprecationWarning: Passing lists of formats for DatetimeTickFormatter scales was deprecated in Bokeh 3.0. Configure a single string format for each scale\n",
      "/opt/homebrew/lib/python3.10/site-packages/backtesting/_plotting.py:250: UserWarning: DatetimeFormatter scales now only accept a single format. Using the first provided: '%d %b'\n",
      "  formatter=DatetimeTickFormatter(days=['%d %b', '%a %d'],\n",
      "BokehDeprecationWarning: Passing lists of formats for DatetimeTickFormatter scales was deprecated in Bokeh 3.0. Configure a single string format for each scale\n",
      "/opt/homebrew/lib/python3.10/site-packages/backtesting/_plotting.py:250: UserWarning: DatetimeFormatter scales now only accept a single format. Using the first provided: '%m/%Y'\n",
      "  formatter=DatetimeTickFormatter(days=['%d %b', '%a %d'],\n"
     ]
    },
    {
     "data": {
      "text/html": [
       "<div style=\"display: table;\"><div style=\"display: table-row;\"><div style=\"display: table-cell;\"><b title=\"bokeh.models.plots.GridPlot\">GridPlot</b>(</div><div style=\"display: table-cell;\">id&nbsp;=&nbsp;'p1720', <span id=\"p2392\" style=\"cursor: pointer;\">&hellip;)</span></div></div><div class=\"p2391\" style=\"display: none;\"><div style=\"display: table-cell;\"></div><div style=\"display: table-cell;\">align&nbsp;=&nbsp;'auto',</div></div><div class=\"p2391\" style=\"display: none;\"><div style=\"display: table-cell;\"></div><div style=\"display: table-cell;\">aspect_ratio&nbsp;=&nbsp;None,</div></div><div class=\"p2391\" style=\"display: none;\"><div style=\"display: table-cell;\"></div><div style=\"display: table-cell;\">children&nbsp;=&nbsp;[(figure(id='p1061', ...), 0, 0), (figure(id='p1164', ...), 1, 0), (figure(id='p1235', ...), 2, 0), (figure(id='p1002', ...), 3, 0), (figure(id='p1307', ...), 4, 0), (figure(id='p1419', ...), 5, 0), (figure(id='p1479', ...), 6, 0)],</div></div><div class=\"p2391\" style=\"display: none;\"><div style=\"display: table-cell;\"></div><div style=\"display: table-cell;\">cols&nbsp;=&nbsp;None,</div></div><div class=\"p2391\" style=\"display: none;\"><div style=\"display: table-cell;\"></div><div style=\"display: table-cell;\">context_menu&nbsp;=&nbsp;None,</div></div><div class=\"p2391\" style=\"display: none;\"><div style=\"display: table-cell;\"></div><div style=\"display: table-cell;\">css_classes&nbsp;=&nbsp;[],</div></div><div class=\"p2391\" style=\"display: none;\"><div style=\"display: table-cell;\"></div><div style=\"display: table-cell;\">disabled&nbsp;=&nbsp;False,</div></div><div class=\"p2391\" style=\"display: none;\"><div style=\"display: table-cell;\"></div><div style=\"display: table-cell;\">flow_mode&nbsp;=&nbsp;'block',</div></div><div class=\"p2391\" style=\"display: none;\"><div style=\"display: table-cell;\"></div><div style=\"display: table-cell;\">height&nbsp;=&nbsp;None,</div></div><div class=\"p2391\" style=\"display: none;\"><div style=\"display: table-cell;\"></div><div style=\"display: table-cell;\">height_policy&nbsp;=&nbsp;'auto',</div></div><div class=\"p2391\" style=\"display: none;\"><div style=\"display: table-cell;\"></div><div style=\"display: table-cell;\">js_event_callbacks&nbsp;=&nbsp;{},</div></div><div class=\"p2391\" style=\"display: none;\"><div style=\"display: table-cell;\"></div><div style=\"display: table-cell;\">js_property_callbacks&nbsp;=&nbsp;{},</div></div><div class=\"p2391\" style=\"display: none;\"><div style=\"display: table-cell;\"></div><div style=\"display: table-cell;\">margin&nbsp;=&nbsp;None,</div></div><div class=\"p2391\" style=\"display: none;\"><div style=\"display: table-cell;\"></div><div style=\"display: table-cell;\">max_height&nbsp;=&nbsp;None,</div></div><div class=\"p2391\" style=\"display: none;\"><div style=\"display: table-cell;\"></div><div style=\"display: table-cell;\">max_width&nbsp;=&nbsp;None,</div></div><div class=\"p2391\" style=\"display: none;\"><div style=\"display: table-cell;\"></div><div style=\"display: table-cell;\">min_height&nbsp;=&nbsp;None,</div></div><div class=\"p2391\" style=\"display: none;\"><div style=\"display: table-cell;\"></div><div style=\"display: table-cell;\">min_width&nbsp;=&nbsp;None,</div></div><div class=\"p2391\" style=\"display: none;\"><div style=\"display: table-cell;\"></div><div style=\"display: table-cell;\">name&nbsp;=&nbsp;None,</div></div><div class=\"p2391\" style=\"display: none;\"><div style=\"display: table-cell;\"></div><div style=\"display: table-cell;\">resizable&nbsp;=&nbsp;False,</div></div><div class=\"p2391\" style=\"display: none;\"><div style=\"display: table-cell;\"></div><div style=\"display: table-cell;\">rows&nbsp;=&nbsp;None,</div></div><div class=\"p2391\" style=\"display: none;\"><div style=\"display: table-cell;\"></div><div style=\"display: table-cell;\">sizing_mode&nbsp;=&nbsp;'stretch_width',</div></div><div class=\"p2391\" style=\"display: none;\"><div style=\"display: table-cell;\"></div><div style=\"display: table-cell;\">spacing&nbsp;=&nbsp;0,</div></div><div class=\"p2391\" style=\"display: none;\"><div style=\"display: table-cell;\"></div><div style=\"display: table-cell;\">styles&nbsp;=&nbsp;{},</div></div><div class=\"p2391\" style=\"display: none;\"><div style=\"display: table-cell;\"></div><div style=\"display: table-cell;\">stylesheets&nbsp;=&nbsp;[],</div></div><div class=\"p2391\" style=\"display: none;\"><div style=\"display: table-cell;\"></div><div style=\"display: table-cell;\">subscribed_events&nbsp;=&nbsp;PropertyValueSet(),</div></div><div class=\"p2391\" style=\"display: none;\"><div style=\"display: table-cell;\"></div><div style=\"display: table-cell;\">syncable&nbsp;=&nbsp;True,</div></div><div class=\"p2391\" style=\"display: none;\"><div style=\"display: table-cell;\"></div><div style=\"display: table-cell;\">tags&nbsp;=&nbsp;[],</div></div><div class=\"p2391\" style=\"display: none;\"><div style=\"display: table-cell;\"></div><div style=\"display: table-cell;\">toolbar&nbsp;=&nbsp;Toolbar(id='p1719', ...),</div></div><div class=\"p2391\" style=\"display: none;\"><div style=\"display: table-cell;\"></div><div style=\"display: table-cell;\">toolbar_location&nbsp;=&nbsp;'right',</div></div><div class=\"p2391\" style=\"display: none;\"><div style=\"display: table-cell;\"></div><div style=\"display: table-cell;\">visible&nbsp;=&nbsp;True,</div></div><div class=\"p2391\" style=\"display: none;\"><div style=\"display: table-cell;\"></div><div style=\"display: table-cell;\">width&nbsp;=&nbsp;None,</div></div><div class=\"p2391\" style=\"display: none;\"><div style=\"display: table-cell;\"></div><div style=\"display: table-cell;\">width_policy&nbsp;=&nbsp;'auto')</div></div></div>\n",
       "<script>\n",
       "(function() {\n",
       "  let expanded = false;\n",
       "  const ellipsis = document.getElementById(\"p2392\");\n",
       "  ellipsis.addEventListener(\"click\", function() {\n",
       "    const rows = document.getElementsByClassName(\"p2391\");\n",
       "    for (let i = 0; i < rows.length; i++) {\n",
       "      const el = rows[i];\n",
       "      el.style.display = expanded ? \"none\" : \"table-row\";\n",
       "    }\n",
       "    ellipsis.innerHTML = expanded ? \"&hellip;)\" : \"&lsaquo;&lsaquo;&lsaquo;\";\n",
       "    expanded = !expanded;\n",
       "  });\n",
       "})();\n",
       "</script>\n"
      ],
      "text/plain": [
       "GridPlot(id='p1720', ...)"
      ]
     },
     "execution_count": 28,
     "metadata": {},
     "output_type": "execute_result"
    }
   ],
   "source": [
    "bt.plot(plot_equity=True,plot_drawdown=True)"
   ]
  },
  {
   "cell_type": "code",
   "execution_count": null,
   "metadata": {},
   "outputs": [],
   "source": [
    "bt_oos.plot(plot_equity=True,plot_drawdown=True)"
   ]
  },
  {
   "cell_type": "markdown",
   "metadata": {},
   "source": [
    "# Analyse on 1month 5 min candle"
   ]
  },
  {
   "cell_type": "code",
   "execution_count": 43,
   "metadata": {},
   "outputs": [
    {
     "name": "stdout",
     "output_type": "stream",
     "text": [
      "this is the volume: 5 and this is the daily limit: 2\n",
      "2315\n"
     ]
    },
    {
     "name": "stderr",
     "output_type": "stream",
     "text": [
      "BokehDeprecationWarning: Passing lists of formats for DatetimeTickFormatter scales was deprecated in Bokeh 3.0. Configure a single string format for each scale\n",
      "/opt/homebrew/lib/python3.10/site-packages/backtesting/_plotting.py:250: UserWarning: DatetimeFormatter scales now only accept a single format. Using the first provided: '%d %b'\n",
      "  formatter=DatetimeTickFormatter(days=['%d %b', '%a %d'],\n",
      "BokehDeprecationWarning: Passing lists of formats for DatetimeTickFormatter scales was deprecated in Bokeh 3.0. Configure a single string format for each scale\n",
      "/opt/homebrew/lib/python3.10/site-packages/backtesting/_plotting.py:250: UserWarning: DatetimeFormatter scales now only accept a single format. Using the first provided: '%m/%Y'\n",
      "  formatter=DatetimeTickFormatter(days=['%d %b', '%a %d'],\n"
     ]
    },
    {
     "data": {
      "text/html": [
       "<div style=\"display: table;\"><div style=\"display: table-row;\"><div style=\"display: table-cell;\"><b title=\"bokeh.models.plots.GridPlot\">GridPlot</b>(</div><div style=\"display: table-cell;\">id&nbsp;=&nbsp;'p3112', <span id=\"p3783\" style=\"cursor: pointer;\">&hellip;)</span></div></div><div class=\"p3782\" style=\"display: none;\"><div style=\"display: table-cell;\"></div><div style=\"display: table-cell;\">align&nbsp;=&nbsp;'auto',</div></div><div class=\"p3782\" style=\"display: none;\"><div style=\"display: table-cell;\"></div><div style=\"display: table-cell;\">aspect_ratio&nbsp;=&nbsp;None,</div></div><div class=\"p3782\" style=\"display: none;\"><div style=\"display: table-cell;\"></div><div style=\"display: table-cell;\">children&nbsp;=&nbsp;[(figure(id='p2453', ...), 0, 0), (figure(id='p2556', ...), 1, 0), (figure(id='p2627', ...), 2, 0), (figure(id='p2394', ...), 3, 0), (figure(id='p2699', ...), 4, 0), (figure(id='p2811', ...), 5, 0), (figure(id='p2871', ...), 6, 0)],</div></div><div class=\"p3782\" style=\"display: none;\"><div style=\"display: table-cell;\"></div><div style=\"display: table-cell;\">cols&nbsp;=&nbsp;None,</div></div><div class=\"p3782\" style=\"display: none;\"><div style=\"display: table-cell;\"></div><div style=\"display: table-cell;\">context_menu&nbsp;=&nbsp;None,</div></div><div class=\"p3782\" style=\"display: none;\"><div style=\"display: table-cell;\"></div><div style=\"display: table-cell;\">css_classes&nbsp;=&nbsp;[],</div></div><div class=\"p3782\" style=\"display: none;\"><div style=\"display: table-cell;\"></div><div style=\"display: table-cell;\">disabled&nbsp;=&nbsp;False,</div></div><div class=\"p3782\" style=\"display: none;\"><div style=\"display: table-cell;\"></div><div style=\"display: table-cell;\">flow_mode&nbsp;=&nbsp;'block',</div></div><div class=\"p3782\" style=\"display: none;\"><div style=\"display: table-cell;\"></div><div style=\"display: table-cell;\">height&nbsp;=&nbsp;None,</div></div><div class=\"p3782\" style=\"display: none;\"><div style=\"display: table-cell;\"></div><div style=\"display: table-cell;\">height_policy&nbsp;=&nbsp;'auto',</div></div><div class=\"p3782\" style=\"display: none;\"><div style=\"display: table-cell;\"></div><div style=\"display: table-cell;\">js_event_callbacks&nbsp;=&nbsp;{},</div></div><div class=\"p3782\" style=\"display: none;\"><div style=\"display: table-cell;\"></div><div style=\"display: table-cell;\">js_property_callbacks&nbsp;=&nbsp;{},</div></div><div class=\"p3782\" style=\"display: none;\"><div style=\"display: table-cell;\"></div><div style=\"display: table-cell;\">margin&nbsp;=&nbsp;None,</div></div><div class=\"p3782\" style=\"display: none;\"><div style=\"display: table-cell;\"></div><div style=\"display: table-cell;\">max_height&nbsp;=&nbsp;None,</div></div><div class=\"p3782\" style=\"display: none;\"><div style=\"display: table-cell;\"></div><div style=\"display: table-cell;\">max_width&nbsp;=&nbsp;None,</div></div><div class=\"p3782\" style=\"display: none;\"><div style=\"display: table-cell;\"></div><div style=\"display: table-cell;\">min_height&nbsp;=&nbsp;None,</div></div><div class=\"p3782\" style=\"display: none;\"><div style=\"display: table-cell;\"></div><div style=\"display: table-cell;\">min_width&nbsp;=&nbsp;None,</div></div><div class=\"p3782\" style=\"display: none;\"><div style=\"display: table-cell;\"></div><div style=\"display: table-cell;\">name&nbsp;=&nbsp;None,</div></div><div class=\"p3782\" style=\"display: none;\"><div style=\"display: table-cell;\"></div><div style=\"display: table-cell;\">resizable&nbsp;=&nbsp;False,</div></div><div class=\"p3782\" style=\"display: none;\"><div style=\"display: table-cell;\"></div><div style=\"display: table-cell;\">rows&nbsp;=&nbsp;None,</div></div><div class=\"p3782\" style=\"display: none;\"><div style=\"display: table-cell;\"></div><div style=\"display: table-cell;\">sizing_mode&nbsp;=&nbsp;'stretch_width',</div></div><div class=\"p3782\" style=\"display: none;\"><div style=\"display: table-cell;\"></div><div style=\"display: table-cell;\">spacing&nbsp;=&nbsp;0,</div></div><div class=\"p3782\" style=\"display: none;\"><div style=\"display: table-cell;\"></div><div style=\"display: table-cell;\">styles&nbsp;=&nbsp;{},</div></div><div class=\"p3782\" style=\"display: none;\"><div style=\"display: table-cell;\"></div><div style=\"display: table-cell;\">stylesheets&nbsp;=&nbsp;[],</div></div><div class=\"p3782\" style=\"display: none;\"><div style=\"display: table-cell;\"></div><div style=\"display: table-cell;\">subscribed_events&nbsp;=&nbsp;PropertyValueSet(),</div></div><div class=\"p3782\" style=\"display: none;\"><div style=\"display: table-cell;\"></div><div style=\"display: table-cell;\">syncable&nbsp;=&nbsp;True,</div></div><div class=\"p3782\" style=\"display: none;\"><div style=\"display: table-cell;\"></div><div style=\"display: table-cell;\">tags&nbsp;=&nbsp;[],</div></div><div class=\"p3782\" style=\"display: none;\"><div style=\"display: table-cell;\"></div><div style=\"display: table-cell;\">toolbar&nbsp;=&nbsp;Toolbar(id='p3111', ...),</div></div><div class=\"p3782\" style=\"display: none;\"><div style=\"display: table-cell;\"></div><div style=\"display: table-cell;\">toolbar_location&nbsp;=&nbsp;'right',</div></div><div class=\"p3782\" style=\"display: none;\"><div style=\"display: table-cell;\"></div><div style=\"display: table-cell;\">visible&nbsp;=&nbsp;True,</div></div><div class=\"p3782\" style=\"display: none;\"><div style=\"display: table-cell;\"></div><div style=\"display: table-cell;\">width&nbsp;=&nbsp;None,</div></div><div class=\"p3782\" style=\"display: none;\"><div style=\"display: table-cell;\"></div><div style=\"display: table-cell;\">width_policy&nbsp;=&nbsp;'auto')</div></div></div>\n",
       "<script>\n",
       "(function() {\n",
       "  let expanded = false;\n",
       "  const ellipsis = document.getElementById(\"p3783\");\n",
       "  ellipsis.addEventListener(\"click\", function() {\n",
       "    const rows = document.getElementsByClassName(\"p3782\");\n",
       "    for (let i = 0; i < rows.length; i++) {\n",
       "      const el = rows[i];\n",
       "      el.style.display = expanded ? \"none\" : \"table-row\";\n",
       "    }\n",
       "    ellipsis.innerHTML = expanded ? \"&hellip;)\" : \"&lsaquo;&lsaquo;&lsaquo;\";\n",
       "    expanded = !expanded;\n",
       "  });\n",
       "})();\n",
       "</script>\n"
      ],
      "text/plain": [
       "GridPlot(id='p3112', ...)"
      ]
     },
     "execution_count": 43,
     "metadata": {},
     "output_type": "execute_result"
    }
   ],
   "source": [
    "bt = Backtest(SE30_test, PairTrading, cash=1250000, margin=1)\n",
    "stats = bt.run()\n",
    "stats\n",
    "bt.plot(plot_equity=True,plot_drawdown=True)"
   ]
  },
  {
   "cell_type": "markdown",
   "metadata": {},
   "source": [
    "# Generating excel report"
   ]
  },
  {
   "cell_type": "markdown",
   "metadata": {},
   "source": [
    "## IS Report"
   ]
  },
  {
   "cell_type": "code",
   "execution_count": null,
   "metadata": {},
   "outputs": [],
   "source": [
    "import pandas as pd\n",
    "data = stats['_trades']\n",
    "df = pd.DataFrame(data)\n",
    "def strategy_stats(df, initial_cap, multiplier, output_file='strategy_stats.xlsx'):\n",
    "    \n",
    "    \n",
    "    df['PnL'] = df['PnL'] * multiplier\n",
    "    df['Cum_Sum'] = df['PnL'].cumsum()\n",
    "    df['Gross_Profit'] = df['PnL'].apply(lambda x: x if x > 0 else 0)\n",
    "    df['Gross_Loss'] = df['PnL'].apply(lambda x: abs(x) if x < 0 else 0)\n",
    "    df = df[df['PnL'] != 0]\n",
    "    df.dropna(inplace=True)\n",
    "    df.set_index('ExitTime', inplace=True)\n",
    "    df.drop(columns=['EntryBar', 'ExitBar', 'ReturnPct', 'Duration'])\n",
    "    df = df[[ 'EntryTime','Size','EntryPrice', 'ExitPrice', 'PnL', 'Cum_Sum', 'Gross_Profit', 'Gross_Loss']]\n",
    "    \n",
    "    # Daily statistics\n",
    "    daily_df = df.resample('D').agg({'PnL': 'sum', 'Cum_Sum': 'last', 'Gross_Profit': 'sum', 'Gross_Loss': 'sum'})\n",
    "    daily_df['Equity'] = daily_df['Cum_Sum'] + initial_cap\n",
    "    daily_df['Daily_Profit(%)'] = daily_df['Equity'].pct_change() * 100\n",
    "    daily_df['Cum_Profit(%)'] = daily_df['Cum_Sum'] / initial_cap * 100\n",
    "    daily_df['Trades'] = df.resample('D')['PnL'].count()\n",
    "    daily_df['Winning_Trade'] = (df['PnL'] > 0).resample('D').sum()\n",
    "    daily_df['Losing_Trade'] = (df['PnL'] < 0).resample('D').sum()\n",
    "    daily_df['Win_Rate'] = daily_df['Winning_Trade'] / daily_df['Trades'] * 100\n",
    "    daily_df = daily_df.reset_index()\n",
    "    daily_df['Period'] = daily_df['ExitTime'].dt.date\n",
    "    daily_df.set_index('Period', inplace=True)\n",
    "    daily_df.dropna(inplace=True)\n",
    "    \n",
    "    # Reformat the dataframe\n",
    "    daily_df = daily_df[['Equity', 'PnL', 'Daily_Profit(%)', 'Cum_Sum', 'Cum_Profit(%)',  'Trades', 'Winning_Trade', 'Losing_Trade', 'Win_Rate', 'Gross_Profit', 'Gross_Loss']]\n",
    "    daily_df = daily_df.rename(columns={'Profit(%)' : 'Daily_Profit(%)', 'PnL': 'Daily_PnL'})\n",
    "    daily_df.index.name = 'Period'\n",
    "    \n",
    "    # Weekly statistics\n",
    "    weekly_df = df.resample('W').agg({'PnL': 'sum', 'Cum_Sum': 'last', 'Gross_Profit': 'sum', 'Gross_Loss': 'sum'})\n",
    "    weekly_df['Equity'] = weekly_df['Cum_Sum'] + initial_cap\n",
    "    weekly_df['Profit(%)']=weekly_df['Equity'].pct_change() *100\n",
    "    weekly_df['Cum_Profit(%)'] = weekly_df['Cum_Sum'] / initial_cap * 100\n",
    "    weekly_df['Trades'] = df.resample('W')['PnL'].count()\n",
    "    weekly_df['Winning_Trade'] = (df['PnL'] > 0).resample('W').sum()\n",
    "    weekly_df['Losing_Trade'] = (df['PnL'] < 0).resample('W').sum()\n",
    "    weekly_df['Win_Rate'] = weekly_df['Winning_Trade'] / weekly_df['Trades'] * 100\n",
    "    weekly_df = weekly_df.reset_index()\n",
    "    weekly_df['Period'] = weekly_df['ExitTime'].dt.date\n",
    "    weekly_df.set_index('Period', inplace=True)\n",
    "    weekly_df.dropna(inplace=True)\n",
    "    \n",
    "    # Reformat the dataframe\n",
    "    weekly_df = weekly_df[['Equity', 'PnL', 'Profit(%)', 'Cum_Sum', 'Cum_Profit(%)',  'Trades', 'Winning_Trade', 'Losing_Trade', 'Win_Rate', 'Gross_Profit', 'Gross_Loss']]\n",
    "    weekly_df = weekly_df.rename(columns={'Profit(%)': 'Weekly_Profit(%)', 'PnL': 'Weekly_PnL'})\n",
    "    weekly_df.index.name = 'Period'\n",
    "    \n",
    "    # Monthly statistics\n",
    "    monthly_df = df.resample('M').agg({'PnL': 'sum', 'Cum_Sum': 'last', 'Gross_Profit': 'sum', 'Gross_Loss': 'sum'})\n",
    "    monthly_df['Equity'] = monthly_df['Cum_Sum'] + initial_cap\n",
    "    monthly_df['Profit(%)']=monthly_df['Equity'].pct_change()*100\n",
    "    monthly_df['Cum_Profit(%)'] = monthly_df['Cum_Sum'] / initial_cap * 100\n",
    "    monthly_df['Trades'] = df.resample('M')['PnL'].count()\n",
    "    monthly_df['Winning_Trade'] = (df['PnL'] > 0).resample('M').sum()\n",
    "    monthly_df['Losing_Trade'] = (df['PnL'] < 0).resample('M').sum()\n",
    "    monthly_df['Win_Rate'] = monthly_df['Winning_Trade'] / monthly_df['Trades'] * 100\n",
    "    monthly_df = monthly_df.reset_index()\n",
    "    monthly_df['Period'] = monthly_df['ExitTime'].dt.date\n",
    "    monthly_df.set_index('Period', inplace=True)\n",
    "    monthly_df.dropna(inplace=True)\n",
    "    \n",
    "    # Reformat the dataframe\n",
    "    monthly_df = monthly_df[['Equity', 'PnL', 'Profit(%)', 'Cum_Sum', 'Cum_Profit(%)',  'Trades', 'Winning_Trade', 'Losing_Trade', 'Win_Rate', 'Gross_Profit', 'Gross_Loss']]\n",
    "    monthly_df = monthly_df.rename(columns={'Profit(%)': 'Monthly_Profit(%)', 'PnL': 'Monthly_PnL'})\n",
    "    monthly_df.index.name = 'Period'\n",
    "    \n",
    "    # Yearly statistics\n",
    "    yearly_df = df.resample('Y').agg({'PnL': 'sum', 'Cum_Sum': 'last', 'Gross_Profit': 'sum', 'Gross_Loss': 'sum'})\n",
    "    yearly_df['Equity'] = yearly_df['Cum_Sum'] + initial_cap\n",
    "    yearly_df['Profit(%)']=yearly_df['Equity'].pct_change()*100\n",
    "    yearly_df['Cum_Profit(%)'] = yearly_df['Cum_Sum'] / initial_cap * 100\n",
    "    yearly_df['Trades'] = df.resample('Y')['PnL'].count()\n",
    "    yearly_df['Winning_Trade'] = (df['PnL'] > 0).resample('Y').sum()\n",
    "    yearly_df['Losing_Trade'] = (df['PnL'] < 0).resample('Y').sum()\n",
    "    yearly_df['Win_Rate'] = yearly_df['Winning_Trade'] / yearly_df['Trades'] * 100\n",
    "    yearly_df =yearly_df.reset_index()\n",
    "    yearly_df['Period'] = yearly_df['ExitTime'].dt.date\n",
    "    yearly_df.set_index('Period', inplace=True)\n",
    "    yearly_df.dropna(inplace=True)\n",
    "    \n",
    "    # Reformat the dataframe\n",
    "    yearly_df = yearly_df[['Equity', 'PnL', 'Profit(%)', 'Cum_Sum', 'Cum_Profit(%)',  'Trades', 'Winning_Trade', 'Losing_Trade', 'Win_Rate', 'Gross_Profit', 'Gross_Loss']]\n",
    "    yearly_df = yearly_df.rename(columns={'Profit(%)': 'Yearly_Profit(%)', 'PnL': 'Yearly_PnL'})\n",
    "    yearly_df.index.name = 'Period'\n",
    "    \n",
    "    # Write the dataframes to an Excel file with different sheets\n",
    "    if output_file is not None:\n",
    "        with pd.ExcelWriter(output_file) as writer:\n",
    "            strategy_index = stats.index.get_loc('_strategy')  # Find the index of '_strategy'\n",
    "            stats.iloc[:strategy_index].to_excel(writer, sheet_name='Strategy Stats', index=True)\n",
    "            df.to_excel(writer, sheet_name='Original')\n",
    "            daily_df.to_excel(writer, sheet_name='Daily')\n",
    "            weekly_df.to_excel(writer, sheet_name='Weekly')\n",
    "            monthly_df.to_excel(writer, sheet_name='Monthly')\n",
    "            yearly_df.to_excel(writer, sheet_name='Yearly')\n",
    "    #-----------------------------------------------------------------------------\n",
    "    # peak = daily_df['Equity'].max()\n",
    "    # max_drawdown = (daily_df['Equity'] - peak).min()\n",
    "    # fig, ax = plt.subplots(figsize=(10, 6))\n",
    "    # daily_df['Equity'].plot(ax=ax, title='Equity_Curve')\n",
    "    # ax.set_xlabel('Date')\n",
    "    # # add a dot for the peak\n",
    "    # ax.plot(daily_df['Equity'].idxmax(), peak, 'go')\n",
    "    # ax.text(daily_df['Equity'].idxmax(), peak, 'Peak', ha='left')\n",
    "    # #------------------------------plot graph-------------------------------------------------------\n",
    "    # return ax\n",
    "    \n",
    "strategy_stats(df, 1250000, 50, 'strategy_stats_IS_PT.xlsx')"
   ]
  }
 ],
 "metadata": {
  "kernelspec": {
   "display_name": "Python 3",
   "language": "python",
   "name": "python3"
  },
  "language_info": {
   "codemirror_mode": {
    "name": "ipython",
    "version": 3
   },
   "file_extension": ".py",
   "mimetype": "text/x-python",
   "name": "python",
   "nbconvert_exporter": "python",
   "pygments_lexer": "ipython3",
   "version": "3.10.11"
  },
  "orig_nbformat": 4
 },
 "nbformat": 4,
 "nbformat_minor": 2
}
